{
 "cells": [
  {
   "cell_type": "code",
   "execution_count": 12,
   "id": "42baca4a-7421-4322-b777-3fb55cb7a121",
   "metadata": {},
   "outputs": [],
   "source": [
    "import pickle\n",
    "import pandas as pd\n",
    "from sklearn.model_selection import train_test_split, GridSearchCV\n",
    "from sklearn.metrics import confusion_matrix, ConfusionMatrixDisplay, classification_report\n",
    "import matplotlib.pyplot as plt\n",
    "from imblearn.over_sampling import SMOTE\n",
    "from sklearn.neighbors import KNeighborsClassifier"
   ]
  },
  {
   "cell_type": "markdown",
   "id": "8823f89d-b073-4245-9640-ba7acb7da99a",
   "metadata": {},
   "source": [
    "#### 1.\tSelect Important Features and create a dataframe (4)"
   ]
  },
  {
   "cell_type": "code",
   "execution_count": 2,
   "id": "018e3f46-cb0b-454f-824b-849b96bfd818",
   "metadata": {},
   "outputs": [
    {
     "data": {
      "text/html": [
       "<div>\n",
       "<style scoped>\n",
       "    .dataframe tbody tr th:only-of-type {\n",
       "        vertical-align: middle;\n",
       "    }\n",
       "\n",
       "    .dataframe tbody tr th {\n",
       "        vertical-align: top;\n",
       "    }\n",
       "\n",
       "    .dataframe thead th {\n",
       "        text-align: right;\n",
       "    }\n",
       "</style>\n",
       "<table border=\"1\" class=\"dataframe\">\n",
       "  <thead>\n",
       "    <tr style=\"text-align: right;\">\n",
       "      <th></th>\n",
       "      <th>gender</th>\n",
       "      <th>age</th>\n",
       "      <th>hypertension</th>\n",
       "      <th>heart_disease</th>\n",
       "      <th>ever_married</th>\n",
       "      <th>work_type</th>\n",
       "      <th>Residence_type</th>\n",
       "      <th>avg_glucose_level</th>\n",
       "      <th>bmi</th>\n",
       "      <th>smoking_status</th>\n",
       "      <th>stroke</th>\n",
       "      <th>has_diabetes</th>\n",
       "      <th>is_obese</th>\n",
       "    </tr>\n",
       "  </thead>\n",
       "  <tbody>\n",
       "    <tr>\n",
       "      <th>0</th>\n",
       "      <td>1</td>\n",
       "      <td>1.735550</td>\n",
       "      <td>0</td>\n",
       "      <td>1</td>\n",
       "      <td>1</td>\n",
       "      <td>2</td>\n",
       "      <td>0</td>\n",
       "      <td>0.638928</td>\n",
       "      <td>0.714365</td>\n",
       "      <td>2</td>\n",
       "      <td>1</td>\n",
       "      <td>0</td>\n",
       "      <td>1</td>\n",
       "    </tr>\n",
       "    <tr>\n",
       "      <th>1</th>\n",
       "      <td>1</td>\n",
       "      <td>1.469312</td>\n",
       "      <td>1</td>\n",
       "      <td>1</td>\n",
       "      <td>1</td>\n",
       "      <td>2</td>\n",
       "      <td>0</td>\n",
       "      <td>-0.944196</td>\n",
       "      <td>-0.062848</td>\n",
       "      <td>2</td>\n",
       "      <td>1</td>\n",
       "      <td>0</td>\n",
       "      <td>0</td>\n",
       "    </tr>\n",
       "    <tr>\n",
       "      <th>2</th>\n",
       "      <td>0</td>\n",
       "      <td>1.247446</td>\n",
       "      <td>0</td>\n",
       "      <td>0</td>\n",
       "      <td>0</td>\n",
       "      <td>2</td>\n",
       "      <td>1</td>\n",
       "      <td>0.129483</td>\n",
       "      <td>-0.763864</td>\n",
       "      <td>2</td>\n",
       "      <td>1</td>\n",
       "      <td>0</td>\n",
       "      <td>0</td>\n",
       "    </tr>\n",
       "    <tr>\n",
       "      <th>3</th>\n",
       "      <td>0</td>\n",
       "      <td>0.803716</td>\n",
       "      <td>0</td>\n",
       "      <td>0</td>\n",
       "      <td>1</td>\n",
       "      <td>2</td>\n",
       "      <td>0</td>\n",
       "      <td>-0.676439</td>\n",
       "      <td>0.164713</td>\n",
       "      <td>0</td>\n",
       "      <td>1</td>\n",
       "      <td>0</td>\n",
       "      <td>0</td>\n",
       "    </tr>\n",
       "    <tr>\n",
       "      <th>4</th>\n",
       "      <td>0</td>\n",
       "      <td>1.646804</td>\n",
       "      <td>0</td>\n",
       "      <td>0</td>\n",
       "      <td>1</td>\n",
       "      <td>2</td>\n",
       "      <td>1</td>\n",
       "      <td>-1.453200</td>\n",
       "      <td>-0.550511</td>\n",
       "      <td>0</td>\n",
       "      <td>1</td>\n",
       "      <td>0</td>\n",
       "      <td>0</td>\n",
       "    </tr>\n",
       "  </tbody>\n",
       "</table>\n",
       "</div>"
      ],
      "text/plain": [
       "   gender       age  hypertension  heart_disease  ever_married  work_type  \\\n",
       "0       1  1.735550             0              1             1          2   \n",
       "1       1  1.469312             1              1             1          2   \n",
       "2       0  1.247446             0              0             0          2   \n",
       "3       0  0.803716             0              0             1          2   \n",
       "4       0  1.646804             0              0             1          2   \n",
       "\n",
       "   Residence_type  avg_glucose_level       bmi  smoking_status  stroke  \\\n",
       "0               0           0.638928  0.714365               2       1   \n",
       "1               0          -0.944196 -0.062848               2       1   \n",
       "2               1           0.129483 -0.763864               2       1   \n",
       "3               0          -0.676439  0.164713               0       1   \n",
       "4               1          -1.453200 -0.550511               0       1   \n",
       "\n",
       "   has_diabetes  is_obese  \n",
       "0             0         1  \n",
       "1             0         0  \n",
       "2             0         0  \n",
       "3             0         0  \n",
       "4             0         0  "
      ]
     },
     "execution_count": 2,
     "metadata": {},
     "output_type": "execute_result"
    }
   ],
   "source": [
    "df = pd.read_csv('preprocessed_stroke_data.csv')\n",
    "df.drop(columns='id',inplace=True)\n",
    "df.head()"
   ]
  },
  {
   "cell_type": "markdown",
   "id": "2b989f91-2c65-4040-952e-79d8014a2354",
   "metadata": {},
   "source": [
    "#### 1.\tSplit Data to train, test, validate (3)"
   ]
  },
  {
   "cell_type": "code",
   "execution_count": 5,
   "id": "217f1012-c097-4550-8835-11df06c3c49f",
   "metadata": {},
   "outputs": [],
   "source": [
    "X = df.drop(['stroke'], axis = 1)\n",
    "Y = df['stroke']"
   ]
  },
  {
   "cell_type": "code",
   "execution_count": 7,
   "id": "52671a51-22e6-4205-895b-994bd8c6570c",
   "metadata": {},
   "outputs": [],
   "source": [
    "smote = SMOTE(sampling_strategy='auto', random_state=42)"
   ]
  },
  {
   "cell_type": "code",
   "execution_count": 9,
   "id": "83b62c6d-148d-40ba-ae61-ffe22a5300df",
   "metadata": {},
   "outputs": [],
   "source": [
    "X_resampled, y_resampled = smote.fit_resample(X, Y)"
   ]
  },
  {
   "cell_type": "markdown",
   "id": "cc0f709b-f6b1-4c2b-9d3d-f1a251f569d2",
   "metadata": {},
   "source": [
    "#### 2.\tTrain Model With SMOTE"
   ]
  },
  {
   "cell_type": "code",
   "execution_count": 11,
   "id": "a93d4635-5567-4642-b357-1e1e1c5cecbc",
   "metadata": {},
   "outputs": [],
   "source": [
    "X_train,X_test,Y_train,Y_test = train_test_split(X_resampled,y_resampled,test_size=0.25,random_state=27)\n",
    "X_validation, X_test, Y_validation, Y_test = train_test_split(X_test, Y_test, test_size=0.5, random_state=42)"
   ]
  },
  {
   "cell_type": "markdown",
   "id": "cde67187-8307-4827-8b6e-338033734cfd",
   "metadata": {},
   "source": [
    "#### 3.\tTest Model"
   ]
  },
  {
   "cell_type": "code",
   "execution_count": 13,
   "id": "ab5393f8-70a1-4567-a2be-880aeb132b0d",
   "metadata": {},
   "outputs": [
    {
     "data": {
      "image/png": "[encoded data removed]",
      "text/plain": [
       "<Figure size 640x480 with 2 Axes>"
      ]
     },
     "metadata": {},
     "output_type": "display_data"
    }
   ],
   "source": [
    "knn = KNeighborsClassifier()\n",
    "knn.fit(X_train, Y_train)\n",
    "pred = knn.predict(X_test)\n",
    "cm = confusion_matrix(Y_test, pred, labels=knn.classes_)\n",
    "disp = ConfusionMatrixDisplay(confusion_matrix=cm, display_labels=knn.classes_)\n",
    "disp.plot()\n",
    "plt.show()"
   ]
  },
  {
   "cell_type": "markdown",
   "id": "44e3108e-c5e7-453d-aba0-3050b7875c78",
   "metadata": {},
   "source": [
    "#### 4.\tEvaluate Model using evaluation matrices"
   ]
  },
  {
   "cell_type": "code",
   "execution_count": 15,
   "id": "d7d25948-3482-4f18-a41e-5841284e3565",
   "metadata": {},
   "outputs": [
    {
     "name": "stdout",
     "output_type": "stream",
     "text": [
      "Classification Report:\n",
      "              precision    recall  f1-score   support\n",
      "\n",
      "           0       0.98      0.82      0.89       569\n",
      "           1       0.83      0.98      0.89       488\n",
      "\n",
      "    accuracy                           0.89      1057\n",
      "   macro avg       0.90      0.90      0.89      1057\n",
      "weighted avg       0.91      0.89      0.89      1057\n",
      "\n"
     ]
    }
   ],
   "source": [
    "report = classification_report(Y_test, pred, labels=knn.classes_)\n",
    "print(\"Classification Report:\")\n",
    "print(report)"
   ]
  },
  {
   "cell_type": "markdown",
   "id": "6477906a-9317-433d-86cb-3ff89d27912e",
   "metadata": {},
   "source": [
    "#### 1.\tHyper Parameter tuning to improve performance"
   ]
  },
  {
   "cell_type": "code",
   "execution_count": 18,
   "id": "077f685c-2fa1-45c3-8c0b-d8f452c4e331",
   "metadata": {},
   "outputs": [
    {
     "name": "stdout",
     "output_type": "stream",
     "text": [
      "Best Hyperparameters: {'n_neighbors': 3, 'weights': 'distance'}\n",
      "Best Model Accuracy: 0.9176915799432356\n"
     ]
    }
   ],
   "source": [
    "param_grid = {\n",
    "    'n_neighbors': [3, 5, 7, 9],        \n",
    "    'weights': ['uniform', 'distance']  \n",
    "}\n",
    "\n",
    "grid_search = GridSearchCV(knn, param_grid, cv=5, n_jobs=-1)\n",
    "grid_search.fit(X_train, Y_train)\n",
    "\n",
    "best_params = grid_search.best_params_\n",
    "best_model = grid_search.best_estimator_\n",
    "\n",
    "accuracy = best_model.score(X_test, Y_test)\n",
    "print(\"Best Hyperparameters:\", best_params)\n",
    "print(\"Best Model Accuracy:\", accuracy)\n"
   ]
  },
  {
   "cell_type": "markdown",
   "id": "8ac3a0e0-ec1a-4262-968d-56fe9d54b264",
   "metadata": {},
   "source": [
    "#### 2.\tSave Model to a pickle file "
   ]
  },
  {
   "cell_type": "code",
   "execution_count": 22,
   "id": "5d298648-f0ca-4cd8-a9e6-0537ff21022c",
   "metadata": {},
   "outputs": [],
   "source": [
    "filename = 'KNN.pkl'\n",
    "with open(filename, 'wb') as file:\n",
    "    pickle.dump(best_model, file)"
   ]
  },
  {
   "cell_type": "markdown",
   "id": "904b4fc3-acdc-467a-98a0-53b7ae837802",
   "metadata": {},
   "source": [
    "#### 3.\tPredict values for validate set using pickle file"
   ]
  },
  {
   "cell_type": "code",
   "execution_count": 23,
   "id": "ffd48950-a369-4f83-9b7b-9730caf27312",
   "metadata": {},
   "outputs": [],
   "source": [
    "with open('KNN.pkl', 'rb') as file:\n",
    "    loaded_model = pickle.load(file)\n",
    "pred_validate = loaded_model.predict(X_validation)"
   ]
  },
  {
   "cell_type": "code",
   "execution_count": 24,
   "id": "1870a4f2-d4ce-4ec6-b501-19f38d40e518",
   "metadata": {},
   "outputs": [
    {
     "data": {
      "text/html": [
       "<div>\n",
       "<style scoped>\n",
       "    .dataframe tbody tr th:only-of-type {\n",
       "        vertical-align: middle;\n",
       "    }\n",
       "\n",
       "    .dataframe tbody tr th {\n",
       "        vertical-align: top;\n",
       "    }\n",
       "\n",
       "    .dataframe thead th {\n",
       "        text-align: right;\n",
       "    }\n",
       "</style>\n",
       "<table border=\"1\" class=\"dataframe\">\n",
       "  <thead>\n",
       "    <tr style=\"text-align: right;\">\n",
       "      <th></th>\n",
       "      <th>gender</th>\n",
       "      <th>age</th>\n",
       "      <th>hypertension</th>\n",
       "      <th>heart_disease</th>\n",
       "      <th>ever_married</th>\n",
       "      <th>work_type</th>\n",
       "      <th>Residence_type</th>\n",
       "      <th>avg_glucose_level</th>\n",
       "      <th>bmi</th>\n",
       "      <th>smoking_status</th>\n",
       "      <th>has_diabetes</th>\n",
       "      <th>is_obese</th>\n",
       "    </tr>\n",
       "  </thead>\n",
       "  <tbody>\n",
       "    <tr>\n",
       "      <th>6346</th>\n",
       "      <td>0</td>\n",
       "      <td>-0.301459</td>\n",
       "      <td>0</td>\n",
       "      <td>0</td>\n",
       "      <td>1</td>\n",
       "      <td>2</td>\n",
       "      <td>0</td>\n",
       "      <td>-0.582694</td>\n",
       "      <td>0.262306</td>\n",
       "      <td>2</td>\n",
       "      <td>0</td>\n",
       "      <td>0</td>\n",
       "    </tr>\n",
       "    <tr>\n",
       "      <th>6142</th>\n",
       "      <td>1</td>\n",
       "      <td>1.637211</td>\n",
       "      <td>0</td>\n",
       "      <td>1</td>\n",
       "      <td>1</td>\n",
       "      <td>2</td>\n",
       "      <td>0</td>\n",
       "      <td>2.067694</td>\n",
       "      <td>-0.187706</td>\n",
       "      <td>3</td>\n",
       "      <td>0</td>\n",
       "      <td>0</td>\n",
       "    </tr>\n",
       "    <tr>\n",
       "      <th>4716</th>\n",
       "      <td>0</td>\n",
       "      <td>1.542959</td>\n",
       "      <td>0</td>\n",
       "      <td>0</td>\n",
       "      <td>1</td>\n",
       "      <td>0</td>\n",
       "      <td>0</td>\n",
       "      <td>0.802337</td>\n",
       "      <td>-0.029562</td>\n",
       "      <td>0</td>\n",
       "      <td>0</td>\n",
       "      <td>0</td>\n",
       "    </tr>\n",
       "    <tr>\n",
       "      <th>4665</th>\n",
       "      <td>1</td>\n",
       "      <td>1.546795</td>\n",
       "      <td>0</td>\n",
       "      <td>0</td>\n",
       "      <td>1</td>\n",
       "      <td>2</td>\n",
       "      <td>1</td>\n",
       "      <td>0.577665</td>\n",
       "      <td>-0.812456</td>\n",
       "      <td>0</td>\n",
       "      <td>0</td>\n",
       "      <td>0</td>\n",
       "    </tr>\n",
       "    <tr>\n",
       "      <th>1030</th>\n",
       "      <td>1</td>\n",
       "      <td>0.404359</td>\n",
       "      <td>0</td>\n",
       "      <td>0</td>\n",
       "      <td>1</td>\n",
       "      <td>2</td>\n",
       "      <td>1</td>\n",
       "      <td>0.531119</td>\n",
       "      <td>0.196223</td>\n",
       "      <td>3</td>\n",
       "      <td>0</td>\n",
       "      <td>0</td>\n",
       "    </tr>\n",
       "  </tbody>\n",
       "</table>\n",
       "</div>"
      ],
      "text/plain": [
       "      gender       age  hypertension  heart_disease  ever_married  work_type  \\\n",
       "6346       0 -0.301459             0              0             1          2   \n",
       "6142       1  1.637211             0              1             1          2   \n",
       "4716       0  1.542959             0              0             1          0   \n",
       "4665       1  1.546795             0              0             1          2   \n",
       "1030       1  0.404359             0              0             1          2   \n",
       "\n",
       "      Residence_type  avg_glucose_level       bmi  smoking_status  \\\n",
       "6346               0          -0.582694  0.262306               2   \n",
       "6142               0           2.067694 -0.187706               3   \n",
       "4716               0           0.802337 -0.029562               0   \n",
       "4665               1           0.577665 -0.812456               0   \n",
       "1030               1           0.531119  0.196223               3   \n",
       "\n",
       "      has_diabetes  is_obese  \n",
       "6346             0         0  \n",
       "6142             0         0  \n",
       "4716             0         0  \n",
       "4665             0         0  \n",
       "1030             0         0  "
      ]
     },
     "execution_count": 24,
     "metadata": {},
     "output_type": "execute_result"
    }
   ],
   "source": [
    "X_validation.head()"
   ]
  },
  {
   "cell_type": "markdown",
   "id": "18a8fcec-31ed-4d89-9f44-53767899e997",
   "metadata": {},
   "source": [
    "#### 4.\tWrite validate set along with it's predicted values to csv file "
   ]
  },
  {
   "cell_type": "code",
   "execution_count": 25,
   "id": "c217d8f0-e185-41a9-bcd9-bb4cd6bf6b32",
   "metadata": {},
   "outputs": [],
   "source": [
    "# Create a DataFrame for the validation set along with the predicted values\n",
    "validation_df = pd.DataFrame({\n",
    "    'Predicted Value': pred_validate,\n",
    "    'Actual Value': Y_validation,\n",
    "})\n",
    "\n",
    "# Save the DataFrame to a CSV file\n",
    "validation_df.to_csv('validation_results.csv', index=False)"
   ]
  }
 ],
 "metadata": {
  "kernelspec": {
   "display_name": "Python 3 (ipykernel)",
   "language": "python",
   "name": "python3"
  },
  "language_info": {
   "codemirror_mode": {
    "name": "ipython",
    "version": 3
   },
   "file_extension": ".py",
   "mimetype": "text/x-python",
   "name": "python",
   "nbconvert_exporter": "python",
   "pygments_lexer": "ipython3",
   "version": "3.11.4"
  }
 },
 "nbformat": 4,
 "nbformat_minor": 5
}
